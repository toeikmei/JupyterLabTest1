{
 "cells": [
  {
   "cell_type": "code",
   "execution_count": null,
   "id": "8843c955-ef0b-4565-aadb-ccc48ce1aab5",
   "metadata": {
    "id": "8ea5b6ce-6b1c-4e2c-9d89-e0d411f9cbc9",
    "tags": []
   },
   "outputs": [],
   "source": [
    "print(1+1)"
   ]
  }
 ],
 "metadata": {
  "kernelspec": {
   "display_name": "Python 3.9",
   "language": "python",
   "name": "python3"
  },
  "language_info": {
   "codemirror_mode": {
    "name": "ipython",
    "version": 3
   },
   "file_extension": ".py",
   "mimetype": "text/x-python",
   "name": "python",
   "nbconvert_exporter": "python",
   "pygments_lexer": "ipython3",
   "version": "3.9.7"
  }
 },
 "nbformat": 4,
 "nbformat_minor": 5
}
